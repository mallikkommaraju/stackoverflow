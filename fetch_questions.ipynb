{
 "cells": [
  {
   "cell_type": "code",
   "execution_count": null,
   "metadata": {},
   "outputs": [],
   "source": [
    "import pandas as pd\n",
    "from datetime import datetime\n",
    "from stackapi import StackAPI"
   ]
  },
  {
   "cell_type": "code",
   "execution_count": null,
   "metadata": {},
   "outputs": [],
   "source": [
    "import os\n",
    "directory_path = r'C:\\Users\\mkommaraju\\Documents\\Work\\ML\\stackoverflow'\n",
    "os.chdir(directory_path)"
   ]
  },
  {
   "cell_type": "code",
   "execution_count": null,
   "metadata": {},
   "outputs": [],
   "source": [
    "today_date = datetime.today().strftime('%Y-%m-%d')\n",
    "start_date= pd.date_range('2019-01-01',today_date , freq='MS').strftime('%Y-%m-%d') # first of the month\n",
    "end_date  = pd.date_range('2019-01-01',today_date , freq='M').strftime('%Y-%m-%d')  # last of the month (ends at previous month)\n",
    "N = len(end_date) # not start_date, which has one additional month\n",
    "tag_list = ['paypal','stripe-payments']"
   ]
  },
  {
   "cell_type": "code",
   "execution_count": null,
   "metadata": {},
   "outputs": [],
   "source": [
    "import urllib3\n",
    "urllib3.disable_warnings()\n",
    "# https://urllib3.readthedocs.io/en/latest/advanced-usage.html#ssl-warnings\n",
    "# I get warning because in stackapi.py, line 183, I added verify=False\n",
    "# C:\\Users\\mkommaraju\\AppData\\Local\\Continuum\\anaconda3\\lib\\site-packages\\stackapi\\stackapi.py"
   ]
  },
  {
   "cell_type": "code",
   "execution_count": null,
   "metadata": {},
   "outputs": [],
   "source": [
    "SITE = StackAPI('stackoverflow')\n",
    "\n",
    "questions_items_full_list=[]\n",
    "for tag in tag_list:\n",
    "    for i in range(N):\n",
    "        print(\"'{}' tag, start={}, end={}\".format(tag, start_date[i], end_date[i]) )\n",
    "        questions = SITE.fetch('questions', \n",
    "                               fromdate=datetime.strptime(start_date[i], '%Y-%m-%d'), \n",
    "                               todate=datetime.strptime(end_date[i], '%Y-%m-%d'), \n",
    "                               tagged=tag)\n",
    "        questions_items = questions.get('items')\n",
    "        questions_items[1]\n",
    "        for q in questions_items:\n",
    "            q.update({'search_tag':tag})\n",
    "        questions_items_full_list = questions_items_full_list + questions_items\n",
    "\n",
    "df = pd.DataFrame(questions_items_full_list)\n",
    "df[\"creation_date_str\"] = [datetime.fromtimestamp(t).strftime('%Y-%m-%d') for t in df.creation_date]\n",
    "df[\"is_answered_flag\"] = [1 if f==True else 0 for f in df.is_answered]"
   ]
  },
  {
   "cell_type": "code",
   "execution_count": null,
   "metadata": {},
   "outputs": [],
   "source": [
    "import html.parser; \n",
    "html.parser.HTMLParser().unescape(query)\n",
    "df[\"title_clean\"] = [html.parser.HTMLParser().unescape(f) for f in df.title]\n",
    "\n",
    "df.to_csv('stackoverflow.csv',index=False)"
   ]
  },
  {
   "cell_type": "code",
   "execution_count": null,
   "metadata": {},
   "outputs": [],
   "source": [
    "from urllib.parse import urlparse\n",
    "from googlesearch import search \n",
    "# to search \n",
    "#query = df.search_tag[0] + ' ' + df.title_clean[0]\n",
    "#query = 'paypal What is the difference between Paypal preapproved payments and automatic payments'"
   ]
  },
  {
   "cell_type": "code",
   "execution_count": null,
   "metadata": {},
   "outputs": [],
   "source": [
    "#N_questions = 5\n",
    "question_id_list = []\n",
    "result_url_list = []\n",
    "result_url_short_list = []\n",
    "search_tag_list = []\n",
    "\n",
    "N_questions = df.shape[0]\n",
    "for i in range(N_questions):\n",
    "    query = df.search_tag[i] + ' ' + df.title_clean[i]\n",
    "    search_result = search(query, tld=\"com\", num=10, stop=10, pause=1)\n",
    "    search_result_list = list(search_result)\n",
    "    short_result_url = []\n",
    "    print(i)\n",
    "    for res in search_result_list: \n",
    "        search_tag_list.append(df.search_tag[i])\n",
    "        question_id_list.append(df.question_id[i])\n",
    "        result_url_list.append(res)\n",
    "        result_url_short_list.append(urlparse(res).netloc)\n",
    "\n",
    "df_google_search = pd.DataFrame({'search_tag':search_tag_list,\n",
    "                                 'question_id':question_id_list,\n",
    "                                 'result_url':result_url_list,\n",
    "                                 'result_url_short':result_url_short_list\n",
    "                                 })\n",
    "df_google_search.reset_index(drop=False, inplace=True)\n",
    "df_google_search['search_rank'] = df_google_search.groupby(['search_tag','question_id'])['index'].rank(method='first')\n",
    "\n",
    "df_google_search.to_csv('df_google_search.csv',index=False)"
   ]
  },
  {
   "cell_type": "code",
   "execution_count": null,
   "metadata": {},
   "outputs": [],
   "source": [
    "df = pd.read_csv('stackoverflow.csv')\n",
    "df.columns\n",
    "df.tags\n",
    "df_tags_list = []\n",
    "df_question_id_list = []\n",
    "for i in range(df.shape[0]):\n",
    "    df_tags = df.tags[i].strip('[]').replace(' ','').replace('\\'','').split(',')\n",
    "    q = df.question_id[i]\n",
    "    for t in df_tags:\n",
    "        df_tags_list.append(t)\n",
    "        df_question_id_list.append(q)\n",
    "df_tags_map = pd.DataFrame({'question_id':df_question_id_list,\n",
    "                            'tag_id':df_tags_list\n",
    "                            })\n",
    "df_tags_questions = df_tags_map.merge(df, left_on='question_id', right_on='question_id')\n",
    "df_tags_questions.to_csv('df_tags_questions.csv', index=False)"
   ]
  }
 ],
 "metadata": {
  "kernelspec": {
   "display_name": "Python 3",
   "language": "python",
   "name": "python3"
  },
  "language_info": {
   "codemirror_mode": {
    "name": "ipython",
    "version": 3
   },
   "file_extension": ".py",
   "mimetype": "text/x-python",
   "name": "python",
   "nbconvert_exporter": "python",
   "pygments_lexer": "ipython3",
   "version": "3.6.6"
  }
 },
 "nbformat": 4,
 "nbformat_minor": 2
}
