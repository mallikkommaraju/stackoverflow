{
 "cells": [
  {
   "cell_type": "markdown",
   "metadata": {},
   "source": [
    "# Initialize variables"
   ]
  },
  {
   "cell_type": "code",
   "execution_count": 13,
   "metadata": {},
   "outputs": [],
   "source": [
    "tag_list = ['paypal','stripe-payments']\n",
    "fetch_start_date = '2019-01-01'\n",
    "fetch_end_date = '2019-01-01'"
   ]
  },
  {
   "cell_type": "markdown",
   "metadata": {},
   "source": [
    "# Setup working directory and date range"
   ]
  },
  {
   "cell_type": "code",
   "execution_count": 6,
   "metadata": {},
   "outputs": [],
   "source": [
    "import os\n",
    "current_dir = os.getcwd()"
   ]
  },
  {
   "cell_type": "code",
   "execution_count": 16,
   "metadata": {},
   "outputs": [],
   "source": [
    "import pandas as pd\n",
    "pd.set_option('display.max_columns', 999)"
   ]
  },
  {
   "cell_type": "code",
   "execution_count": 9,
   "metadata": {},
   "outputs": [
    {
     "name": "stdout",
     "output_type": "stream",
     "text": [
      "start_date:Index(['2019-01-01', '2019-02-01', '2019-03-01', '2019-04-01', '2019-05-01',\n",
      "       '2019-06-01', '2019-07-01', '2019-08-01', '2019-09-01', '2019-10-01',\n",
      "       '2019-11-01', '2019-12-01', '2020-01-01', '2020-02-01', '2020-03-01',\n",
      "       '2020-04-01'],\n",
      "      dtype='object')\n",
      "end_date:Index(['2019-01-31', '2019-02-28', '2019-03-31', '2019-04-30', '2019-05-31',\n",
      "       '2019-06-30', '2019-07-31', '2019-08-31', '2019-09-30', '2019-10-31',\n",
      "       '2019-11-30', '2019-12-31', '2020-01-31', '2020-02-29', '2020-03-31'],\n",
      "      dtype='object')\n"
     ]
    }
   ],
   "source": [
    "from datetime import datetime\n",
    "today_date = datetime.today().strftime('%Y-%m-%d')\n",
    "start_date= pd.date_range(fetch_start_date,today_date , freq='MS').strftime('%Y-%m-%d') # first of the month\n",
    "end_date  = pd.date_range(fetch_end_date,today_date , freq='M').strftime('%Y-%m-%d')  # last of the month\n",
    "N = len(end_date) # not start_date, which has one additional month\n",
    "print(f'start_date:{start_date}')\n",
    "print(f'end_date:{end_date}')"
   ]
  },
  {
   "cell_type": "markdown",
   "metadata": {},
   "source": [
    "# Get data from Stackoverflow"
   ]
  },
  {
   "cell_type": "markdown",
   "metadata": {},
   "source": [
    "I had trouble getting my SSL certificate on python/anaconda to work. So I disabled it in the StackAPI package and disabled the warnings for now\n",
    "\n",
    "https://urllib3.readthedocs.io/en/latest/advanced-usage.html#ssl-warnings\n",
    "\n",
    "I get warning because in stackapi.py, line 183, I added verify=False\n",
    "C:\\Users\\mkommaraju\\AppData\\Local\\Continuum\\anaconda3\\lib\\site-packages\\stackapi\\stackapi.py\n",
    "\n",
    "StackAPI documentation https://stackapi.readthedocs.io/en/latest/"
   ]
  },
  {
   "cell_type": "code",
   "execution_count": 10,
   "metadata": {},
   "outputs": [],
   "source": [
    "import urllib3\n",
    "urllib3.disable_warnings()"
   ]
  },
  {
   "cell_type": "code",
   "execution_count": 11,
   "metadata": {},
   "outputs": [],
   "source": [
    "from stackapi import StackAPI\n",
    "SITE = StackAPI('stackoverflow')"
   ]
  },
  {
   "cell_type": "code",
   "execution_count": 14,
   "metadata": {},
   "outputs": [
    {
     "name": "stdout",
     "output_type": "stream",
     "text": [
      "'paypal' tag, start=2019-01-01, end=2019-01-31\n",
      "'paypal' tag, start=2019-02-01, end=2019-02-28\n",
      "'paypal' tag, start=2019-03-01, end=2019-03-31\n",
      "'paypal' tag, start=2019-04-01, end=2019-04-30\n",
      "'paypal' tag, start=2019-05-01, end=2019-05-31\n",
      "'paypal' tag, start=2019-06-01, end=2019-06-30\n",
      "'paypal' tag, start=2019-07-01, end=2019-07-31\n",
      "'paypal' tag, start=2019-08-01, end=2019-08-31\n",
      "'paypal' tag, start=2019-09-01, end=2019-09-30\n",
      "'paypal' tag, start=2019-10-01, end=2019-10-31\n",
      "'paypal' tag, start=2019-11-01, end=2019-11-30\n",
      "'paypal' tag, start=2019-12-01, end=2019-12-31\n",
      "'paypal' tag, start=2020-01-01, end=2020-01-31\n",
      "'paypal' tag, start=2020-02-01, end=2020-02-29\n",
      "'paypal' tag, start=2020-03-01, end=2020-03-31\n",
      "'stripe-payments' tag, start=2019-01-01, end=2019-01-31\n",
      "'stripe-payments' tag, start=2019-02-01, end=2019-02-28\n",
      "'stripe-payments' tag, start=2019-03-01, end=2019-03-31\n",
      "'stripe-payments' tag, start=2019-04-01, end=2019-04-30\n",
      "'stripe-payments' tag, start=2019-05-01, end=2019-05-31\n",
      "'stripe-payments' tag, start=2019-06-01, end=2019-06-30\n",
      "'stripe-payments' tag, start=2019-07-01, end=2019-07-31\n",
      "'stripe-payments' tag, start=2019-08-01, end=2019-08-31\n",
      "'stripe-payments' tag, start=2019-09-01, end=2019-09-30\n",
      "'stripe-payments' tag, start=2019-10-01, end=2019-10-31\n",
      "'stripe-payments' tag, start=2019-11-01, end=2019-11-30\n",
      "'stripe-payments' tag, start=2019-12-01, end=2019-12-31\n",
      "'stripe-payments' tag, start=2020-01-01, end=2020-01-31\n",
      "'stripe-payments' tag, start=2020-02-01, end=2020-02-29\n",
      "'stripe-payments' tag, start=2020-03-01, end=2020-03-31\n"
     ]
    }
   ],
   "source": [
    "questions_items_full_list=[]\n",
    "for tag in tag_list:\n",
    "    for i in range(N):\n",
    "        print(\"'{}' tag, start={}, end={}\".format(tag, start_date[i], end_date[i]) )\n",
    "        questions = SITE.fetch('questions', \n",
    "                               fromdate=datetime.strptime(start_date[i], '%Y-%m-%d'), \n",
    "                               todate=datetime.strptime(end_date[i], '%Y-%m-%d'), \n",
    "                               tagged=tag)\n",
    "        questions_items = questions.get('items')\n",
    "        questions_items[1]\n",
    "        for q in questions_items:\n",
    "            q.update({'search_tag':tag})\n",
    "        questions_items_full_list = questions_items_full_list + questions_items\n",
    "\n",
    "df = pd.DataFrame(questions_items_full_list)\n",
    "df[\"creation_date_str\"] = [datetime.fromtimestamp(t).strftime('%Y-%m-%d') for t in df.creation_date]\n",
    "df[\"is_answered_flag\"] = [1 if f==True else 0 for f in df.is_answered]"
   ]
  },
  {
   "cell_type": "code",
   "execution_count": 17,
   "metadata": {},
   "outputs": [
    {
     "data": {
      "text/html": [
       "<div>\n",
       "<style scoped>\n",
       "    .dataframe tbody tr th:only-of-type {\n",
       "        vertical-align: middle;\n",
       "    }\n",
       "\n",
       "    .dataframe tbody tr th {\n",
       "        vertical-align: top;\n",
       "    }\n",
       "\n",
       "    .dataframe thead th {\n",
       "        text-align: right;\n",
       "    }\n",
       "</style>\n",
       "<table border=\"1\" class=\"dataframe\">\n",
       "  <thead>\n",
       "    <tr style=\"text-align: right;\">\n",
       "      <th></th>\n",
       "      <th>tags</th>\n",
       "      <th>owner</th>\n",
       "      <th>is_answered</th>\n",
       "      <th>view_count</th>\n",
       "      <th>accepted_answer_id</th>\n",
       "      <th>answer_count</th>\n",
       "      <th>score</th>\n",
       "      <th>last_activity_date</th>\n",
       "      <th>creation_date</th>\n",
       "      <th>question_id</th>\n",
       "      <th>link</th>\n",
       "      <th>title</th>\n",
       "      <th>search_tag</th>\n",
       "      <th>last_edit_date</th>\n",
       "      <th>migrated_from</th>\n",
       "      <th>protected_date</th>\n",
       "      <th>closed_date</th>\n",
       "      <th>closed_reason</th>\n",
       "      <th>bounty_amount</th>\n",
       "      <th>bounty_closes_date</th>\n",
       "      <th>creation_date_str</th>\n",
       "      <th>is_answered_flag</th>\n",
       "    </tr>\n",
       "  </thead>\n",
       "  <tbody>\n",
       "    <tr>\n",
       "      <th>0</th>\n",
       "      <td>[paypal, paypal-sandbox, paypal-subscriptions]</td>\n",
       "      <td>{'reputation': 4604, 'user_id': 1319542, 'user...</td>\n",
       "      <td>True</td>\n",
       "      <td>606</td>\n",
       "      <td>54165510.0</td>\n",
       "      <td>1</td>\n",
       "      <td>0</td>\n",
       "      <td>1577543072</td>\n",
       "      <td>1547219141</td>\n",
       "      <td>54149111</td>\n",
       "      <td>https://stackoverflow.com/questions/54149111/w...</td>\n",
       "      <td>What is the difference between Paypal &amp;quot;pr...</td>\n",
       "      <td>paypal</td>\n",
       "      <td>NaN</td>\n",
       "      <td>NaN</td>\n",
       "      <td>NaN</td>\n",
       "      <td>NaN</td>\n",
       "      <td>NaN</td>\n",
       "      <td>NaN</td>\n",
       "      <td>NaN</td>\n",
       "      <td>2019-01-11</td>\n",
       "      <td>1</td>\n",
       "    </tr>\n",
       "    <tr>\n",
       "      <th>1</th>\n",
       "      <td>[spring-boot, paypal, access-token, resttempla...</td>\n",
       "      <td>{'reputation': 167, 'user_id': 9673158, 'user_...</td>\n",
       "      <td>False</td>\n",
       "      <td>260</td>\n",
       "      <td>NaN</td>\n",
       "      <td>1</td>\n",
       "      <td>0</td>\n",
       "      <td>1577362298</td>\n",
       "      <td>1548220554</td>\n",
       "      <td>54320426</td>\n",
       "      <td>https://stackoverflow.com/questions/54320426/h...</td>\n",
       "      <td>How to set paypal get access token param of PO...</td>\n",
       "      <td>paypal</td>\n",
       "      <td>NaN</td>\n",
       "      <td>NaN</td>\n",
       "      <td>NaN</td>\n",
       "      <td>NaN</td>\n",
       "      <td>NaN</td>\n",
       "      <td>NaN</td>\n",
       "      <td>NaN</td>\n",
       "      <td>2019-01-22</td>\n",
       "      <td>0</td>\n",
       "    </tr>\n",
       "    <tr>\n",
       "      <th>2</th>\n",
       "      <td>[paypal, paypal-rest-sdk]</td>\n",
       "      <td>{'reputation': 1361, 'user_id': 4497941, 'user...</td>\n",
       "      <td>False</td>\n",
       "      <td>39</td>\n",
       "      <td>NaN</td>\n",
       "      <td>1</td>\n",
       "      <td>1</td>\n",
       "      <td>1565672506</td>\n",
       "      <td>1548502125</td>\n",
       "      <td>54377965</td>\n",
       "      <td>https://stackoverflow.com/questions/54377965/p...</td>\n",
       "      <td>PayPal Payout API limits?</td>\n",
       "      <td>paypal</td>\n",
       "      <td>NaN</td>\n",
       "      <td>NaN</td>\n",
       "      <td>NaN</td>\n",
       "      <td>NaN</td>\n",
       "      <td>NaN</td>\n",
       "      <td>NaN</td>\n",
       "      <td>NaN</td>\n",
       "      <td>2019-01-26</td>\n",
       "      <td>0</td>\n",
       "    </tr>\n",
       "    <tr>\n",
       "      <th>3</th>\n",
       "      <td>[paypal, applepay, google-pay, venmo, samsung-...</td>\n",
       "      <td>{'reputation': 71, 'user_id': 9072072, 'user_t...</td>\n",
       "      <td>True</td>\n",
       "      <td>147</td>\n",
       "      <td>NaN</td>\n",
       "      <td>1</td>\n",
       "      <td>2</td>\n",
       "      <td>1563018676</td>\n",
       "      <td>1547026474</td>\n",
       "      <td>54106958</td>\n",
       "      <td>https://stackoverflow.com/questions/54106958/i...</td>\n",
       "      <td>Implementing Peer to Peer payments</td>\n",
       "      <td>paypal</td>\n",
       "      <td>NaN</td>\n",
       "      <td>NaN</td>\n",
       "      <td>NaN</td>\n",
       "      <td>NaN</td>\n",
       "      <td>NaN</td>\n",
       "      <td>NaN</td>\n",
       "      <td>NaN</td>\n",
       "      <td>2019-01-09</td>\n",
       "      <td>1</td>\n",
       "    </tr>\n",
       "    <tr>\n",
       "      <th>4</th>\n",
       "      <td>[javascript, kotlin, paypal, downshift]</td>\n",
       "      <td>{'reputation': 31, 'user_id': 5098212, 'user_t...</td>\n",
       "      <td>False</td>\n",
       "      <td>152</td>\n",
       "      <td>NaN</td>\n",
       "      <td>1</td>\n",
       "      <td>3</td>\n",
       "      <td>1561444720</td>\n",
       "      <td>1548566276</td>\n",
       "      <td>54385291</td>\n",
       "      <td>https://stackoverflow.com/questions/54385291/c...</td>\n",
       "      <td>Creating a Kotlin React Wrapper around Paypal ...</td>\n",
       "      <td>paypal</td>\n",
       "      <td>1.548568e+09</td>\n",
       "      <td>NaN</td>\n",
       "      <td>NaN</td>\n",
       "      <td>NaN</td>\n",
       "      <td>NaN</td>\n",
       "      <td>NaN</td>\n",
       "      <td>NaN</td>\n",
       "      <td>2019-01-26</td>\n",
       "      <td>0</td>\n",
       "    </tr>\n",
       "  </tbody>\n",
       "</table>\n",
       "</div>"
      ],
      "text/plain": [
       "                                                tags  \\\n",
       "0     [paypal, paypal-sandbox, paypal-subscriptions]   \n",
       "1  [spring-boot, paypal, access-token, resttempla...   \n",
       "2                          [paypal, paypal-rest-sdk]   \n",
       "3  [paypal, applepay, google-pay, venmo, samsung-...   \n",
       "4            [javascript, kotlin, paypal, downshift]   \n",
       "\n",
       "                                               owner  is_answered  view_count  \\\n",
       "0  {'reputation': 4604, 'user_id': 1319542, 'user...         True         606   \n",
       "1  {'reputation': 167, 'user_id': 9673158, 'user_...        False         260   \n",
       "2  {'reputation': 1361, 'user_id': 4497941, 'user...        False          39   \n",
       "3  {'reputation': 71, 'user_id': 9072072, 'user_t...         True         147   \n",
       "4  {'reputation': 31, 'user_id': 5098212, 'user_t...        False         152   \n",
       "\n",
       "   accepted_answer_id  answer_count  score  last_activity_date  creation_date  \\\n",
       "0          54165510.0             1      0          1577543072     1547219141   \n",
       "1                 NaN             1      0          1577362298     1548220554   \n",
       "2                 NaN             1      1          1565672506     1548502125   \n",
       "3                 NaN             1      2          1563018676     1547026474   \n",
       "4                 NaN             1      3          1561444720     1548566276   \n",
       "\n",
       "   question_id                                               link  \\\n",
       "0     54149111  https://stackoverflow.com/questions/54149111/w...   \n",
       "1     54320426  https://stackoverflow.com/questions/54320426/h...   \n",
       "2     54377965  https://stackoverflow.com/questions/54377965/p...   \n",
       "3     54106958  https://stackoverflow.com/questions/54106958/i...   \n",
       "4     54385291  https://stackoverflow.com/questions/54385291/c...   \n",
       "\n",
       "                                               title search_tag  \\\n",
       "0  What is the difference between Paypal &quot;pr...     paypal   \n",
       "1  How to set paypal get access token param of PO...     paypal   \n",
       "2                          PayPal Payout API limits?     paypal   \n",
       "3                 Implementing Peer to Peer payments     paypal   \n",
       "4  Creating a Kotlin React Wrapper around Paypal ...     paypal   \n",
       "\n",
       "   last_edit_date migrated_from  protected_date  closed_date closed_reason  \\\n",
       "0             NaN           NaN             NaN          NaN           NaN   \n",
       "1             NaN           NaN             NaN          NaN           NaN   \n",
       "2             NaN           NaN             NaN          NaN           NaN   \n",
       "3             NaN           NaN             NaN          NaN           NaN   \n",
       "4    1.548568e+09           NaN             NaN          NaN           NaN   \n",
       "\n",
       "   bounty_amount  bounty_closes_date creation_date_str  is_answered_flag  \n",
       "0            NaN                 NaN        2019-01-11                 1  \n",
       "1            NaN                 NaN        2019-01-22                 0  \n",
       "2            NaN                 NaN        2019-01-26                 0  \n",
       "3            NaN                 NaN        2019-01-09                 1  \n",
       "4            NaN                 NaN        2019-01-26                 0  "
      ]
     },
     "execution_count": 17,
     "metadata": {},
     "output_type": "execute_result"
    }
   ],
   "source": [
    "df.head()"
   ]
  },
  {
   "cell_type": "code",
   "execution_count": 23,
   "metadata": {},
   "outputs": [
    {
     "data": {
      "text/plain": [
       "'What is the difference between Paypal &quot;preapproved payments&quot; and &quot;automatic payments&quot;?'"
      ]
     },
     "execution_count": 23,
     "metadata": {},
     "output_type": "execute_result"
    }
   ],
   "source": [
    "df.title[0]"
   ]
  },
  {
   "cell_type": "markdown",
   "metadata": {},
   "source": [
    "The 'title' column has special characcters, convert to a claner format to improve readability"
   ]
  },
  {
   "cell_type": "code",
   "execution_count": 24,
   "metadata": {},
   "outputs": [
    {
     "name": "stderr",
     "output_type": "stream",
     "text": [
      "C:\\Users\\mkommaraju\\AppData\\Local\\Continuum\\anaconda3\\lib\\site-packages\\ipykernel_launcher.py:2: DeprecationWarning: The unescape method is deprecated and will be removed in 3.5, use html.unescape() instead.\n",
      "  \n"
     ]
    },
    {
     "data": {
      "text/plain": [
       "'What is the difference between Paypal \"preapproved payments\" and \"automatic payments\"?'"
      ]
     },
     "execution_count": 24,
     "metadata": {},
     "output_type": "execute_result"
    }
   ],
   "source": [
    "import html.parser; \n",
    "html.parser.HTMLParser().unescape(df.title[0])"
   ]
  },
  {
   "cell_type": "code",
   "execution_count": 25,
   "metadata": {},
   "outputs": [
    {
     "data": {
      "text/plain": [
       "'What is the difference between Paypal \"preapproved payments\" and \"automatic payments\"?'"
      ]
     },
     "execution_count": 25,
     "metadata": {},
     "output_type": "execute_result"
    }
   ],
   "source": [
    "html.unescape(df.title[0])"
   ]
  },
  {
   "cell_type": "code",
   "execution_count": 26,
   "metadata": {},
   "outputs": [
    {
     "name": "stderr",
     "output_type": "stream",
     "text": [
      "C:\\Users\\mkommaraju\\AppData\\Local\\Continuum\\anaconda3\\lib\\site-packages\\ipykernel_launcher.py:1: DeprecationWarning: The unescape method is deprecated and will be removed in 3.5, use html.unescape() instead.\n",
      "  \"\"\"Entry point for launching an IPython kernel.\n"
     ]
    }
   ],
   "source": [
    "df[\"title_clean\"] = [html.parser.HTMLParser().unescape(f) for f in df.title]"
   ]
  },
  {
   "cell_type": "code",
   "execution_count": 27,
   "metadata": {},
   "outputs": [
    {
     "data": {
      "text/plain": [
       "Index(['tags', 'owner', 'is_answered', 'view_count', 'accepted_answer_id',\n",
       "       'answer_count', 'score', 'last_activity_date', 'creation_date',\n",
       "       'question_id', 'link', 'title', 'search_tag', 'last_edit_date',\n",
       "       'migrated_from', 'protected_date', 'closed_date', 'closed_reason',\n",
       "       'bounty_amount', 'bounty_closes_date', 'creation_date_str',\n",
       "       'is_answered_flag', 'title_clean'],\n",
       "      dtype='object')"
      ]
     },
     "execution_count": 27,
     "metadata": {},
     "output_type": "execute_result"
    }
   ],
   "source": [
    "df.columns"
   ]
  },
  {
   "cell_type": "markdown",
   "metadata": {},
   "source": [
    "# Save data to csv file"
   ]
  },
  {
   "cell_type": "code",
   "execution_count": 28,
   "metadata": {},
   "outputs": [],
   "source": [
    "df.to_csv('stackoverflow'+today_date+'.csv',index=False)"
   ]
  },
  {
   "cell_type": "markdown",
   "metadata": {},
   "source": [
    "# Search the questions on Google and get results for analysis"
   ]
  },
  {
   "cell_type": "code",
   "execution_count": 29,
   "metadata": {},
   "outputs": [],
   "source": [
    "from urllib.parse import urlparse\n",
    "from googlesearch import search \n",
    "# to search \n",
    "#query = df.search_tag[0] + ' ' + df.title_clean[0]\n",
    "#query = 'paypal What is the difference between Paypal preapproved payments and automatic payments'"
   ]
  },
  {
   "cell_type": "code",
   "execution_count": 30,
   "metadata": {},
   "outputs": [
    {
     "name": "stdout",
     "output_type": "stream",
     "text": [
      "0\n",
      "1\n",
      "2\n",
      "3\n",
      "4\n"
     ]
    }
   ],
   "source": [
    "question_id_list = []\n",
    "result_url_list = []\n",
    "result_url_short_list = []\n",
    "search_tag_list = []\n",
    "\n",
    "N_questions = 5\n",
    "#N_questions = df.shape[0]\n",
    "for i in range(N_questions):\n",
    "    query = df.search_tag[i] + ' ' + df.title_clean[i] # search for tag+question\n",
    "    search_result = search(query, tld=\"com\", num=10, stop=10, pause=1)\n",
    "    search_result_list = list(search_result)\n",
    "    short_result_url = []\n",
    "    print(i)\n",
    "    for res in search_result_list: \n",
    "        search_tag_list.append(df.search_tag[i])\n",
    "        question_id_list.append(df.question_id[i])\n",
    "        result_url_list.append(res)\n",
    "        result_url_short_list.append(urlparse(res).netloc)\n",
    "\n",
    "df_google_search = pd.DataFrame({'search_tag':search_tag_list,\n",
    "                                 'question_id':question_id_list,\n",
    "                                 'result_url':result_url_list,\n",
    "                                 'result_url_short':result_url_short_list\n",
    "                                 })\n",
    "df_google_search.reset_index(drop=False, inplace=True)\n",
    "df_google_search['search_rank'] = df_google_search.groupby(['search_tag','question_id'])['index'].rank(method='first')"
   ]
  },
  {
   "cell_type": "code",
   "execution_count": 32,
   "metadata": {},
   "outputs": [
    {
     "data": {
      "text/html": [
       "<div>\n",
       "<style scoped>\n",
       "    .dataframe tbody tr th:only-of-type {\n",
       "        vertical-align: middle;\n",
       "    }\n",
       "\n",
       "    .dataframe tbody tr th {\n",
       "        vertical-align: top;\n",
       "    }\n",
       "\n",
       "    .dataframe thead th {\n",
       "        text-align: right;\n",
       "    }\n",
       "</style>\n",
       "<table border=\"1\" class=\"dataframe\">\n",
       "  <thead>\n",
       "    <tr style=\"text-align: right;\">\n",
       "      <th></th>\n",
       "      <th>index</th>\n",
       "      <th>search_tag</th>\n",
       "      <th>question_id</th>\n",
       "      <th>result_url</th>\n",
       "      <th>result_url_short</th>\n",
       "      <th>search_rank</th>\n",
       "    </tr>\n",
       "  </thead>\n",
       "  <tbody>\n",
       "    <tr>\n",
       "      <th>0</th>\n",
       "      <td>0</td>\n",
       "      <td>paypal</td>\n",
       "      <td>54149111</td>\n",
       "      <td>https://stackoverflow.com/questions/54149111/w...</td>\n",
       "      <td>stackoverflow.com</td>\n",
       "      <td>1.0</td>\n",
       "    </tr>\n",
       "    <tr>\n",
       "      <th>1</th>\n",
       "      <td>1</td>\n",
       "      <td>paypal</td>\n",
       "      <td>54149111</td>\n",
       "      <td>https://www.paypal.com/us/webapps/mpp/popup/ab...</td>\n",
       "      <td>www.paypal.com</td>\n",
       "      <td>2.0</td>\n",
       "    </tr>\n",
       "    <tr>\n",
       "      <th>2</th>\n",
       "      <td>2</td>\n",
       "      <td>paypal</td>\n",
       "      <td>54149111</td>\n",
       "      <td>https://www.groovypost.com/howto/switch-paypal...</td>\n",
       "      <td>www.groovypost.com</td>\n",
       "      <td>3.0</td>\n",
       "    </tr>\n",
       "    <tr>\n",
       "      <th>3</th>\n",
       "      <td>3</td>\n",
       "      <td>paypal</td>\n",
       "      <td>54149111</td>\n",
       "      <td>https://www.mymoneyblog.com/preapproved-paymen...</td>\n",
       "      <td>www.mymoneyblog.com</td>\n",
       "      <td>4.0</td>\n",
       "    </tr>\n",
       "    <tr>\n",
       "      <th>4</th>\n",
       "      <td>4</td>\n",
       "      <td>paypal</td>\n",
       "      <td>54149111</td>\n",
       "      <td>https://www.paypal-community.com/t5/Sending-mo...</td>\n",
       "      <td>www.paypal-community.com</td>\n",
       "      <td>5.0</td>\n",
       "    </tr>\n",
       "  </tbody>\n",
       "</table>\n",
       "</div>"
      ],
      "text/plain": [
       "   index search_tag  question_id  \\\n",
       "0      0     paypal     54149111   \n",
       "1      1     paypal     54149111   \n",
       "2      2     paypal     54149111   \n",
       "3      3     paypal     54149111   \n",
       "4      4     paypal     54149111   \n",
       "\n",
       "                                          result_url  \\\n",
       "0  https://stackoverflow.com/questions/54149111/w...   \n",
       "1  https://www.paypal.com/us/webapps/mpp/popup/ab...   \n",
       "2  https://www.groovypost.com/howto/switch-paypal...   \n",
       "3  https://www.mymoneyblog.com/preapproved-paymen...   \n",
       "4  https://www.paypal-community.com/t5/Sending-mo...   \n",
       "\n",
       "           result_url_short  search_rank  \n",
       "0         stackoverflow.com          1.0  \n",
       "1            www.paypal.com          2.0  \n",
       "2        www.groovypost.com          3.0  \n",
       "3       www.mymoneyblog.com          4.0  \n",
       "4  www.paypal-community.com          5.0  "
      ]
     },
     "execution_count": 32,
     "metadata": {},
     "output_type": "execute_result"
    }
   ],
   "source": [
    "df_google_search.head()"
   ]
  },
  {
   "cell_type": "code",
   "execution_count": 33,
   "metadata": {},
   "outputs": [],
   "source": [
    "df_google_search.to_csv('df_google_search'+today_date+'.csv',index=False)"
   ]
  },
  {
   "cell_type": "markdown",
   "metadata": {},
   "source": [
    "# Combine the stackoverflow results with the Google Search results"
   ]
  },
  {
   "cell_type": "code",
   "execution_count": 34,
   "metadata": {},
   "outputs": [],
   "source": [
    "df = pd.read_csv('stackoverflow'+today_date+'.csv')\n",
    "df.columns\n",
    "df.tags\n",
    "df_tags_list = []\n",
    "df_question_id_list = []\n",
    "for i in range(df.shape[0]):\n",
    "    df_tags = df.tags[i].strip('[]').replace(' ','').replace('\\'','').split(',')\n",
    "    q = df.question_id[i]\n",
    "    for t in df_tags:\n",
    "        df_tags_list.append(t)\n",
    "        df_question_id_list.append(q)\n",
    "df_tags_map = pd.DataFrame({'question_id':df_question_id_list,\n",
    "                            'tag_id':df_tags_list\n",
    "                            })\n",
    "df_tags_questions = df_tags_map.merge(df, left_on='question_id', right_on='question_id')"
   ]
  },
  {
   "cell_type": "code",
   "execution_count": 35,
   "metadata": {},
   "outputs": [
    {
     "data": {
      "text/html": [
       "<div>\n",
       "<style scoped>\n",
       "    .dataframe tbody tr th:only-of-type {\n",
       "        vertical-align: middle;\n",
       "    }\n",
       "\n",
       "    .dataframe tbody tr th {\n",
       "        vertical-align: top;\n",
       "    }\n",
       "\n",
       "    .dataframe thead th {\n",
       "        text-align: right;\n",
       "    }\n",
       "</style>\n",
       "<table border=\"1\" class=\"dataframe\">\n",
       "  <thead>\n",
       "    <tr style=\"text-align: right;\">\n",
       "      <th></th>\n",
       "      <th>question_id</th>\n",
       "      <th>tag_id</th>\n",
       "      <th>tags</th>\n",
       "      <th>owner</th>\n",
       "      <th>is_answered</th>\n",
       "      <th>view_count</th>\n",
       "      <th>accepted_answer_id</th>\n",
       "      <th>answer_count</th>\n",
       "      <th>score</th>\n",
       "      <th>last_activity_date</th>\n",
       "      <th>creation_date</th>\n",
       "      <th>link</th>\n",
       "      <th>title</th>\n",
       "      <th>search_tag</th>\n",
       "      <th>last_edit_date</th>\n",
       "      <th>migrated_from</th>\n",
       "      <th>protected_date</th>\n",
       "      <th>closed_date</th>\n",
       "      <th>closed_reason</th>\n",
       "      <th>bounty_amount</th>\n",
       "      <th>bounty_closes_date</th>\n",
       "      <th>creation_date_str</th>\n",
       "      <th>is_answered_flag</th>\n",
       "      <th>title_clean</th>\n",
       "    </tr>\n",
       "  </thead>\n",
       "  <tbody>\n",
       "    <tr>\n",
       "      <th>0</th>\n",
       "      <td>54149111</td>\n",
       "      <td>paypal</td>\n",
       "      <td>['paypal', 'paypal-sandbox', 'paypal-subscript...</td>\n",
       "      <td>{'reputation': 4604, 'user_id': 1319542, 'user...</td>\n",
       "      <td>True</td>\n",
       "      <td>606</td>\n",
       "      <td>54165510.0</td>\n",
       "      <td>1</td>\n",
       "      <td>0</td>\n",
       "      <td>1577543072</td>\n",
       "      <td>1547219141</td>\n",
       "      <td>https://stackoverflow.com/questions/54149111/w...</td>\n",
       "      <td>What is the difference between Paypal &amp;quot;pr...</td>\n",
       "      <td>paypal</td>\n",
       "      <td>NaN</td>\n",
       "      <td>NaN</td>\n",
       "      <td>NaN</td>\n",
       "      <td>NaN</td>\n",
       "      <td>NaN</td>\n",
       "      <td>NaN</td>\n",
       "      <td>NaN</td>\n",
       "      <td>2019-01-11</td>\n",
       "      <td>1</td>\n",
       "      <td>What is the difference between Paypal \"preappr...</td>\n",
       "    </tr>\n",
       "    <tr>\n",
       "      <th>1</th>\n",
       "      <td>54149111</td>\n",
       "      <td>paypal-sandbox</td>\n",
       "      <td>['paypal', 'paypal-sandbox', 'paypal-subscript...</td>\n",
       "      <td>{'reputation': 4604, 'user_id': 1319542, 'user...</td>\n",
       "      <td>True</td>\n",
       "      <td>606</td>\n",
       "      <td>54165510.0</td>\n",
       "      <td>1</td>\n",
       "      <td>0</td>\n",
       "      <td>1577543072</td>\n",
       "      <td>1547219141</td>\n",
       "      <td>https://stackoverflow.com/questions/54149111/w...</td>\n",
       "      <td>What is the difference between Paypal &amp;quot;pr...</td>\n",
       "      <td>paypal</td>\n",
       "      <td>NaN</td>\n",
       "      <td>NaN</td>\n",
       "      <td>NaN</td>\n",
       "      <td>NaN</td>\n",
       "      <td>NaN</td>\n",
       "      <td>NaN</td>\n",
       "      <td>NaN</td>\n",
       "      <td>2019-01-11</td>\n",
       "      <td>1</td>\n",
       "      <td>What is the difference between Paypal \"preappr...</td>\n",
       "    </tr>\n",
       "    <tr>\n",
       "      <th>2</th>\n",
       "      <td>54149111</td>\n",
       "      <td>paypal-subscriptions</td>\n",
       "      <td>['paypal', 'paypal-sandbox', 'paypal-subscript...</td>\n",
       "      <td>{'reputation': 4604, 'user_id': 1319542, 'user...</td>\n",
       "      <td>True</td>\n",
       "      <td>606</td>\n",
       "      <td>54165510.0</td>\n",
       "      <td>1</td>\n",
       "      <td>0</td>\n",
       "      <td>1577543072</td>\n",
       "      <td>1547219141</td>\n",
       "      <td>https://stackoverflow.com/questions/54149111/w...</td>\n",
       "      <td>What is the difference between Paypal &amp;quot;pr...</td>\n",
       "      <td>paypal</td>\n",
       "      <td>NaN</td>\n",
       "      <td>NaN</td>\n",
       "      <td>NaN</td>\n",
       "      <td>NaN</td>\n",
       "      <td>NaN</td>\n",
       "      <td>NaN</td>\n",
       "      <td>NaN</td>\n",
       "      <td>2019-01-11</td>\n",
       "      <td>1</td>\n",
       "      <td>What is the difference between Paypal \"preappr...</td>\n",
       "    </tr>\n",
       "    <tr>\n",
       "      <th>3</th>\n",
       "      <td>54320426</td>\n",
       "      <td>spring-boot</td>\n",
       "      <td>['spring-boot', 'paypal', 'access-token', 'res...</td>\n",
       "      <td>{'reputation': 167, 'user_id': 9673158, 'user_...</td>\n",
       "      <td>False</td>\n",
       "      <td>260</td>\n",
       "      <td>NaN</td>\n",
       "      <td>1</td>\n",
       "      <td>0</td>\n",
       "      <td>1577362298</td>\n",
       "      <td>1548220554</td>\n",
       "      <td>https://stackoverflow.com/questions/54320426/h...</td>\n",
       "      <td>How to set paypal get access token param of PO...</td>\n",
       "      <td>paypal</td>\n",
       "      <td>NaN</td>\n",
       "      <td>NaN</td>\n",
       "      <td>NaN</td>\n",
       "      <td>NaN</td>\n",
       "      <td>NaN</td>\n",
       "      <td>NaN</td>\n",
       "      <td>NaN</td>\n",
       "      <td>2019-01-22</td>\n",
       "      <td>0</td>\n",
       "      <td>How to set paypal get access token param of PO...</td>\n",
       "    </tr>\n",
       "    <tr>\n",
       "      <th>4</th>\n",
       "      <td>54320426</td>\n",
       "      <td>paypal</td>\n",
       "      <td>['spring-boot', 'paypal', 'access-token', 'res...</td>\n",
       "      <td>{'reputation': 167, 'user_id': 9673158, 'user_...</td>\n",
       "      <td>False</td>\n",
       "      <td>260</td>\n",
       "      <td>NaN</td>\n",
       "      <td>1</td>\n",
       "      <td>0</td>\n",
       "      <td>1577362298</td>\n",
       "      <td>1548220554</td>\n",
       "      <td>https://stackoverflow.com/questions/54320426/h...</td>\n",
       "      <td>How to set paypal get access token param of PO...</td>\n",
       "      <td>paypal</td>\n",
       "      <td>NaN</td>\n",
       "      <td>NaN</td>\n",
       "      <td>NaN</td>\n",
       "      <td>NaN</td>\n",
       "      <td>NaN</td>\n",
       "      <td>NaN</td>\n",
       "      <td>NaN</td>\n",
       "      <td>2019-01-22</td>\n",
       "      <td>0</td>\n",
       "      <td>How to set paypal get access token param of PO...</td>\n",
       "    </tr>\n",
       "  </tbody>\n",
       "</table>\n",
       "</div>"
      ],
      "text/plain": [
       "   question_id                tag_id  \\\n",
       "0     54149111                paypal   \n",
       "1     54149111        paypal-sandbox   \n",
       "2     54149111  paypal-subscriptions   \n",
       "3     54320426           spring-boot   \n",
       "4     54320426                paypal   \n",
       "\n",
       "                                                tags  \\\n",
       "0  ['paypal', 'paypal-sandbox', 'paypal-subscript...   \n",
       "1  ['paypal', 'paypal-sandbox', 'paypal-subscript...   \n",
       "2  ['paypal', 'paypal-sandbox', 'paypal-subscript...   \n",
       "3  ['spring-boot', 'paypal', 'access-token', 'res...   \n",
       "4  ['spring-boot', 'paypal', 'access-token', 'res...   \n",
       "\n",
       "                                               owner  is_answered  view_count  \\\n",
       "0  {'reputation': 4604, 'user_id': 1319542, 'user...         True         606   \n",
       "1  {'reputation': 4604, 'user_id': 1319542, 'user...         True         606   \n",
       "2  {'reputation': 4604, 'user_id': 1319542, 'user...         True         606   \n",
       "3  {'reputation': 167, 'user_id': 9673158, 'user_...        False         260   \n",
       "4  {'reputation': 167, 'user_id': 9673158, 'user_...        False         260   \n",
       "\n",
       "   accepted_answer_id  answer_count  score  last_activity_date  creation_date  \\\n",
       "0          54165510.0             1      0          1577543072     1547219141   \n",
       "1          54165510.0             1      0          1577543072     1547219141   \n",
       "2          54165510.0             1      0          1577543072     1547219141   \n",
       "3                 NaN             1      0          1577362298     1548220554   \n",
       "4                 NaN             1      0          1577362298     1548220554   \n",
       "\n",
       "                                                link  \\\n",
       "0  https://stackoverflow.com/questions/54149111/w...   \n",
       "1  https://stackoverflow.com/questions/54149111/w...   \n",
       "2  https://stackoverflow.com/questions/54149111/w...   \n",
       "3  https://stackoverflow.com/questions/54320426/h...   \n",
       "4  https://stackoverflow.com/questions/54320426/h...   \n",
       "\n",
       "                                               title search_tag  \\\n",
       "0  What is the difference between Paypal &quot;pr...     paypal   \n",
       "1  What is the difference between Paypal &quot;pr...     paypal   \n",
       "2  What is the difference between Paypal &quot;pr...     paypal   \n",
       "3  How to set paypal get access token param of PO...     paypal   \n",
       "4  How to set paypal get access token param of PO...     paypal   \n",
       "\n",
       "   last_edit_date migrated_from  protected_date  closed_date closed_reason  \\\n",
       "0             NaN           NaN             NaN          NaN           NaN   \n",
       "1             NaN           NaN             NaN          NaN           NaN   \n",
       "2             NaN           NaN             NaN          NaN           NaN   \n",
       "3             NaN           NaN             NaN          NaN           NaN   \n",
       "4             NaN           NaN             NaN          NaN           NaN   \n",
       "\n",
       "   bounty_amount  bounty_closes_date creation_date_str  is_answered_flag  \\\n",
       "0            NaN                 NaN        2019-01-11                 1   \n",
       "1            NaN                 NaN        2019-01-11                 1   \n",
       "2            NaN                 NaN        2019-01-11                 1   \n",
       "3            NaN                 NaN        2019-01-22                 0   \n",
       "4            NaN                 NaN        2019-01-22                 0   \n",
       "\n",
       "                                         title_clean  \n",
       "0  What is the difference between Paypal \"preappr...  \n",
       "1  What is the difference between Paypal \"preappr...  \n",
       "2  What is the difference between Paypal \"preappr...  \n",
       "3  How to set paypal get access token param of PO...  \n",
       "4  How to set paypal get access token param of PO...  "
      ]
     },
     "execution_count": 35,
     "metadata": {},
     "output_type": "execute_result"
    }
   ],
   "source": [
    "df_tags_questions.head()"
   ]
  },
  {
   "cell_type": "code",
   "execution_count": 36,
   "metadata": {},
   "outputs": [],
   "source": [
    "df_tags_questions.to_csv('df_tags_questions'+today_date+'.csv', index=False)"
   ]
  }
 ],
 "metadata": {
  "kernelspec": {
   "display_name": "Python 3",
   "language": "python",
   "name": "python3"
  },
  "language_info": {
   "codemirror_mode": {
    "name": "ipython",
    "version": 3
   },
   "file_extension": ".py",
   "mimetype": "text/x-python",
   "name": "python",
   "nbconvert_exporter": "python",
   "pygments_lexer": "ipython3",
   "version": "3.6.6"
  }
 },
 "nbformat": 4,
 "nbformat_minor": 2
}
